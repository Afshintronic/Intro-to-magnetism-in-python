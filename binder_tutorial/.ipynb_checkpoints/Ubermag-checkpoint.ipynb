{
 "cells": [
  {
   "cell_type": "markdown",
   "id": "0d517962",
   "metadata": {},
   "source": [
    "# Intro to Magnetism in Python, part 3\n",
    "\n",
    "## Micromagnetics simulations with Ubermag\n",
    "\n",
    "So far, you have seen the bare bones of what you need to install, write and run Python sripts and notebooks. Although I gave an example with data fitting on part 2, at the beginning\n",
    "I said that I wanted magnetic-specific instances that we can apply to our work or even tinker around with for whatever purpose. This closing tutorial is one of those instances. \n",
    "\n",
    "[**Ubermag**](https://ubermag.github.io/) is a recent project by Marijan Beg, Hans Fangohr and collaborators that adds another layer of abstraction on top of the existing two most \n",
    "popular micromagnetics (mms) simulation programs (or calculators): [OOMMF](https://math.nist.gov/oommf/) and [mumax&#179;](https://mumax.github.io/). It acts as a user frontend for \n",
    "the mms calculators and they can be selected indistinguishably within the same workflow. Therefore, not only can we save the opening of a new instance of a certain calculator, but \n",
    "we also have a common language between calculators so the simulation cells, mesh and parameters do not need to be translated from one to the other when comparing approaches. \n",
    "Furthermore, it allows for other options like the simulation to take place inside [Docker](https://www.docker.com/) container, for easy portability; and to perform a computation \n",
    "online for free in the nanoHUB cloud via [Binder](https://ubermag.readthedocs.io/en/latest/ipynb/ubermag-cloud.html). \n",
    "\n",
    "There is a good guide as well as a deep-dive tutorial series from Beg on the [IEEE Magnetics website](https://www.spintalks.org/tutorials) that is worth checking out after you are\n",
    "done with this part. This final tutorial has been inspired from the Ubermag documentation and I will keep things short for the sake of brevity, but you should definetely take a look\n",
    "into his videos as he goes into detail about the basics of mms and the different aspects of the Ubermag package. The recommended method for installing Ubermag, by its developers, is\n",
    "using **Anaconda**. Open up a terminal, create, and activate an environment, I'll call it `ubermag` for simplicity:\n",
    "\n",
    "```\n",
    "conda create -n ubermag python=3.8 -y\n",
    "conda activate ubermag\n",
    "```\n",
    "\n",
    "My use of the `-y` flag is to avoid the confirmation prompt that comes out when you are making changes to Python, but you can do without in this and the next commands if you'd like \n",
    "to review the different packages you'll be installing. Once again, the Ubermag meta package requires specific updated versions of many common Python packages, and we create and enter\n",
    "the virtual environment so we don't break anything outside it during installation. Same will be true when you want to use Ubermag, you'll have to activate it. Once inside, we will\n",
    "install it with:\n",
    "\n",
    "```\n",
    "conda install --channel conda-forge ubermag -y\n",
    "```\n",
    "\n",
    "Simple as that. To test the installation, type:\n",
    "\n",
    "```\n",
    "python -c \"import ubermag; ubermag.test()\"\n",
    "```\n",
    "\n",
    "If no errors show up, the installation has been sucessful. Otherwise, delete the environment and try it again. IF you have decided not to use Anaconda, there is also a manual\n",
    "installation of the individual components. Neither I or the developers recommend this approach, but it can be found under \n",
    "[Advanced installation at the Ubermag docs website](https://ubermag.readthedocs.io/en/latest/ipynb/advanced-installation.html). Once with that, we can start exploring and simulating\n",
    "mms systems with either calculator. \n",
    "\n",
    "Below, I have prepared a notebook with descriptive examples of magnetic vortices in a disk and a domain wall pair conversion. You can just check out the notebook, but Gitlab is not adequate\n",
    "for this. Preferably, you can download it and run it locally within your newly-minted virtual environment. \n",
    "\n",
    "[Ubermag notebook: quick demonstration of vortex dynamics](../SkyrmionUbermagExamples.ipynb)\n",
    "\n",
    "Now, you should have the basic tools to start using the Jupyter Notebook environment for Python prototyping and mms simulations. As the repository gets populated, more sample \n",
    "scripts and notebooks will become available so you can download and use. Please feel free to make requests either here or at the group's wiki. Thank you for making it this far\n",
    "and I hope to write more tutorials soon.\n",
    "\n",
    "*Victor H. González*"
   ]
  }
 ],
 "metadata": {
  "kernelspec": {
   "display_name": "Python 3",
   "language": "python",
   "name": "python3"
  },
  "language_info": {
   "codemirror_mode": {
    "name": "ipython",
    "version": 3
   },
   "file_extension": ".py",
   "mimetype": "text/x-python",
   "name": "python",
   "nbconvert_exporter": "python",
   "pygments_lexer": "ipython3",
   "version": "3.8.8"
  }
 },
 "nbformat": 4,
 "nbformat_minor": 5
}
