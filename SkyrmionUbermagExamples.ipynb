{
 "cells": [
  {
   "cell_type": "markdown",
   "id": "24058598",
   "metadata": {},
   "source": [
    "# Quick demonstration of vortex dynamics\n",
    "\n",
    "Here are to examples of Ubermag notebooks of whett your appetite towards the metapackage and it's riveting possibilities. First, let's start by importing the neccesary tools. The following three lines will be at the beginning of every ubermag simulation."
   ]
  },
  {
   "cell_type": "code",
   "execution_count": 1,
   "id": "2292dbaa",
   "metadata": {},
   "outputs": [],
   "source": [
    "import oommfc as oc\n",
    "import discretisedfield as df\n",
    "import micromagneticmodel as mm\n",
    "\n",
    "%matplotlib inline"
   ]
  },
  {
   "cell_type": "markdown",
   "id": "7ddf5be0",
   "metadata": {},
   "source": [
    "## Vortex dynamics in a disk\n",
    "Here, we will study how does a vortex move in a disk with exchange coupling only. For the initial conditions, we will set up the magnetization of the disk such that it starts with a vortex. Then, we will the system evolve in such a manner that it will minimize it's energy and we shall see how do the different domains behave.\n",
    "\n",
    "First off, the parameters of the system. For brevity, I shall assume some familiarity with mesh simulations, energy terms in magnetic systems, and the Landau-Lifshitz-Gilbert equation. For a detailed treatment, I recommend reading [C. Albert, 2019](https://arxiv.org/pdf/1810.12365.pdf). "
   ]
  },
  {
   "cell_type": "code",
   "execution_count": 2,
   "id": "6c123a13",
   "metadata": {},
   "outputs": [],
   "source": [
    "# Parameters\n",
    "R = 50e-9 # disk radius (m)\n",
    "d = 5e-9 # discretization cell size (i.e. the length of the edge of our cubic mesh cells) (m)\n",
    "Ms = 8e5 # saturation magnetization for the material (A/m)\n",
    "A = 13e-12 # exchange energy constant (J/m)\n",
    "gamma0= 2.211e5 # gyromagnetic ratio (m/As)\n",
    "alpha = 0.2 # Gilbert damping constant"
   ]
  },
  {
   "cell_type": "markdown",
   "id": "edbc7c6d",
   "metadata": {},
   "source": [
    "Now, we define the mesh (i.e. the regions of material that we can approximate to have a single magnetic domain each), In this case, we have a parallelepiped region of square face of edge 2R and thickness d."
   ]
  },
  {
   "cell_type": "code",
   "execution_count": 3,
   "id": "645aee92",
   "metadata": {},
   "outputs": [],
   "source": [
    "# Mesh\n",
    "p1=(-R, -R, -d/2)\n",
    "p2=(R, R, d/2)\n",
    "cell=(d, d, d)\n",
    "region=df.Region(p1=p1,p2=p2)\n",
    "mesh=df.Mesh(region=region, cell=cell)"
   ]
  },
  {
   "cell_type": "markdown",
   "id": "e1247d59",
   "metadata": {},
   "source": [
    "Next, we will define a `system` object that will contain the mesh, its energy and dynamics. To that system, we can assign the specific mechanisms we have in mind for out simulations. In this case, our disk will only have exchange energy and it will evolve with precession and damping."
   ]
  },
  {
   "cell_type": "code",
   "execution_count": 4,
   "id": "8f1e463d",
   "metadata": {},
   "outputs": [],
   "source": [
    "# Definición del sistema micromagnético\n",
    "\n",
    "system = mm.System(name='disk_with_vortex')\n",
    "system.energy = mm.Exchange(A=A) + mm.Demag()\n",
    "system.dynamics = mm.Precession(gamma0=gamma0) + mm.Damping(alpha=alpha)"
   ]
  },
  {
   "cell_type": "markdown",
   "id": "074fe83e",
   "metadata": {},
   "source": [
    "A nice feature of Ubermag is that it can actually produce human-readable equations, so we can check the mechanism present in our simulation at any time."
   ]
  },
  {
   "cell_type": "code",
   "execution_count": 5,
   "id": "2a0e4ef1",
   "metadata": {},
   "outputs": [
    {
     "data": {
      "text/latex": [
       "$- A \\mathbf{m} \\cdot \\nabla^{2} \\mathbf{m}-\\frac{1}{2}\\mu_{0}M_\\text{s}\\mathbf{m} \\cdot \\mathbf{H}_\\text{d}$"
      ],
      "text/plain": [
       "Exchange(A=1.3e-11) + Demag()"
      ]
     },
     "execution_count": 5,
     "metadata": {},
     "output_type": "execute_result"
    }
   ],
   "source": [
    "system.energy"
   ]
  },
  {
   "cell_type": "markdown",
   "id": "e17f7ab8",
   "metadata": {},
   "source": [
    "As inputted before, the only mechanisms are exchange interaction and stray field demagnetization. For the dynamics, we write:"
   ]
  },
  {
   "cell_type": "code",
   "execution_count": 6,
   "id": "a86cda4a",
   "metadata": {},
   "outputs": [
    {
     "data": {
      "text/latex": [
       "$-\\frac{\\gamma_{0}}{1 + \\alpha^{2}} \\mathbf{m} \\times \\mathbf{H}_\\text{eff}-\\frac{\\gamma_{0} \\alpha}{1 + \\alpha^{2}} \\mathbf{m} \\times (\\mathbf{m} \\times \\mathbf{H}_\\text{eff})$"
      ],
      "text/plain": [
       "Precession(gamma0=221100.0) + Damping(alpha=0.2)"
      ]
     },
     "execution_count": 6,
     "metadata": {},
     "output_type": "execute_result"
    }
   ],
   "source": [
    "system.dynamics"
   ]
  },
  {
   "cell_type": "markdown",
   "id": "89715706",
   "metadata": {},
   "source": [
    "Just precession and damping terms. Now, for the geometry and the initial conditions of the system, we must define functions that return the actual object we are looking to simulate. It is easy to see that we have chosen a disk for the former and a vectorial field of uniform curl for the latter."
   ]
  },
  {
   "cell_type": "code",
   "execution_count": 7,
   "id": "0833bc24",
   "metadata": {},
   "outputs": [],
   "source": [
    "def geometry(pos):\n",
    "    x, y, z = pos\n",
    "    if (x)**2 + (y)**2 < R**2:\n",
    "        return Ms\n",
    "    else:\n",
    "        return 0\n",
    "    \n",
    "def m_initial(pos):\n",
    "    x, y, z= pos\n",
    "    return (-1e9*y, 1e9*x, 10)"
   ]
  },
  {
   "cell_type": "markdown",
   "id": "56e63694",
   "metadata": {},
   "source": [
    "Finally, we input the mesh, dimensions, initial conditions and geometry into the system. Then, we can visualize the results."
   ]
  },
  {
   "cell_type": "code",
   "execution_count": 8,
   "id": "c0bc77fd",
   "metadata": {},
   "outputs": [
    {
     "data": {
      "application/vnd.jupyter.widget-view+json": {
       "model_id": "cd226e70ef014ca28b1e31143dfe7f3a",
       "version_major": 2,
       "version_minor": 0
      },
      "text/plain": [
       "Output()"
      ]
     },
     "metadata": {},
     "output_type": "display_data"
    },
    {
     "data": {
      "application/vnd.jupyter.widget-view+json": {
       "model_id": "610bd378246844d2a7e12b71075755ec",
       "version_major": 2,
       "version_minor": 0
      },
      "text/plain": [
       "Output()"
      ]
     },
     "metadata": {},
     "output_type": "display_data"
    }
   ],
   "source": [
    "system.m = df.Field(mesh, dim=3, value=m_initial, norm=geometry)\n",
    "system.m.z.plane('z').k3d_scalar(filter_field=system.m.norm)\n",
    "system.m.k3d_vector(color_field=system.m.z, head_size=10)"
   ]
  },
  {
   "cell_type": "markdown",
   "id": "bc6c2bcd",
   "metadata": {},
   "source": [
    "Now, we relax the system and let it evolve on its own. We see that the curvature of the skyrmion increases"
   ]
  },
  {
   "cell_type": "code",
   "execution_count": 9,
   "id": "63cdbdbc",
   "metadata": {},
   "outputs": [
    {
     "name": "stdout",
     "output_type": "stream",
     "text": [
      "Running OOMMF (TclOOMMFRunner) [2021/04/13 16:16]... (6.9 s)\n"
     ]
    },
    {
     "data": {
      "application/vnd.jupyter.widget-view+json": {
       "model_id": "752aaa880b8a49bcbd104540c73d5082",
       "version_major": 2,
       "version_minor": 0
      },
      "text/plain": [
       "Output()"
      ]
     },
     "metadata": {},
     "output_type": "display_data"
    },
    {
     "data": {
      "application/vnd.jupyter.widget-view+json": {
       "model_id": "82a746ab70704dd992a97a5ea512fdd8",
       "version_major": 2,
       "version_minor": 0
      },
      "text/plain": [
       "Output()"
      ]
     },
     "metadata": {},
     "output_type": "display_data"
    }
   ],
   "source": [
    "md = oc.MinDriver()\n",
    "md.drive(system)\n",
    "system.m.z.plane('z').k3d_scalar(filter_field=system.m.norm)\n",
    "system.m.k3d_vector(color_field=system.m.z, head_size=10)"
   ]
  },
  {
   "cell_type": "markdown",
   "id": "cd24d4e8",
   "metadata": {},
   "source": [
    "Finally, we can apply an external magnetic field (via the Zeeman energy) and see that the vortex will move in that direction."
   ]
  },
  {
   "cell_type": "code",
   "execution_count": 10,
   "id": "7590cd7b",
   "metadata": {},
   "outputs": [
    {
     "name": "stdout",
     "output_type": "stream",
     "text": [
      "Running OOMMF (TclOOMMFRunner) [2021/04/13 16:16]... (7.1 s)\n"
     ]
    },
    {
     "data": {
      "application/vnd.jupyter.widget-view+json": {
       "model_id": "d954c2d065ed48f9a2bf1eb07c79573a",
       "version_major": 2,
       "version_minor": 0
      },
      "text/plain": [
       "Output()"
      ]
     },
     "metadata": {},
     "output_type": "display_data"
    },
    {
     "data": {
      "application/vnd.jupyter.widget-view+json": {
       "model_id": "2ba2381c0d834f76aeff36b4a823af47",
       "version_major": 2,
       "version_minor": 0
      },
      "text/plain": [
       "Output()"
      ]
     },
     "metadata": {},
     "output_type": "display_data"
    }
   ],
   "source": [
    "system.energy += mm.Zeeman(H=(1e4, 0, 0))\n",
    "md.drive(system)\n",
    "system.m.z.plane('z').k3d_scalar(filter_field=system.m.norm)\n",
    "system.m.k3d_vector(color_field=system.m.z, head_size=10)"
   ]
  },
  {
   "cell_type": "markdown",
   "id": "f2f5c5f0",
   "metadata": {},
   "source": [
    "## Domain wall pair through a junction\n",
    "Picking the right parameters and geomtry, we can observe a transition from wall domain pair to vortex when the pair goes through a junction of different channel widths."
   ]
  },
  {
   "cell_type": "code",
   "execution_count": 11,
   "id": "48bc4491",
   "metadata": {},
   "outputs": [],
   "source": [
    "# Parameters\n",
    "L = 150e-9 # length (m)\n",
    "w = 50e-9 # width (m)\n",
    "d = 2e-9 # size of the discretization cell, also thickness (m)\n",
    "Ms = 5.8e5 # saturation (A/m)\n",
    "A = 15e-12 # exchange enery constant (J/m)\n",
    "D = 3e-3 # Dzyaloshinskii-Moriya energy constant (J/m**2)\n",
    "K = 0.5e6 # uniaxial anisotropy constant (J/m**3)\n",
    "u = (0, 0, 1) # easy axis\n",
    "gamma0= 2.211e5 # gyromagnetic ratio (m/As)\n",
    "alpha = 0.3 # Gilbert damping"
   ]
  },
  {
   "cell_type": "markdown",
   "id": "74dd2cb2",
   "metadata": {},
   "source": [
    "The mesh is a parallelepiped in this case with edges L, w, and d"
   ]
  },
  {
   "cell_type": "code",
   "execution_count": 12,
   "id": "5e8d4140",
   "metadata": {},
   "outputs": [],
   "source": [
    "# Mesh\n",
    "p1=(0, 0, 0)\n",
    "p2=(L, w, d)\n",
    "cell=(d, d, d)\n",
    "region=df.Region(p1=p1,p2=p2)\n",
    "mesh=df.Mesh(region=region, cell=cell)"
   ]
  },
  {
   "cell_type": "markdown",
   "id": "a47dd079",
   "metadata": {},
   "source": [
    "In this case, we must include the Dzyaloshinskii-Moriya interaction and uniaxial anisotropy in order for the vortices to appear from curl-trivial initial conditions. The dynamics remain the same"
   ]
  },
  {
   "cell_type": "code",
   "execution_count": 13,
   "id": "2054ef9d",
   "metadata": {},
   "outputs": [],
   "source": [
    "system = mm.System(name='domain_wall_conversion_thin_film')\n",
    "system.energy = mm.Exchange(A=A) + \\\n",
    "                mm.DMI(D=D, crystalclass='Cnv') + \\\n",
    "                mm.UniaxialAnisotropy(K=K, u=u)\n",
    "system.dynamics = mm.Precession(gamma0=gamma0) + mm.Damping(alpha=alpha)"
   ]
  },
  {
   "cell_type": "markdown",
   "id": "930c2933",
   "metadata": {},
   "source": [
    "Check out the new energy terms"
   ]
  },
  {
   "cell_type": "code",
   "execution_count": 14,
   "id": "876696f9",
   "metadata": {
    "scrolled": true
   },
   "outputs": [
    {
     "data": {
      "text/latex": [
       "$- A \\mathbf{m} \\cdot \\nabla^{2} \\mathbf{m}+ D ( \\mathbf{m} \\cdot \\nabla m_{z} - m_{z} \\nabla \\cdot \\mathbf{m} )-K (\\mathbf{m} \\cdot \\mathbf{u})^{2}$"
      ],
      "text/plain": [
       "Exchange(A=1.5e-11) + DMI(D=0.003, crystalclass='Cnv') + UniaxialAnisotropy(K=500000.0, u=(0, 0, 1))"
      ]
     },
     "execution_count": 14,
     "metadata": {},
     "output_type": "execute_result"
    }
   ],
   "source": [
    "system.energy"
   ]
  },
  {
   "cell_type": "markdown",
   "id": "e113c022",
   "metadata": {},
   "source": [
    "Now, for the geometry and the initial conditions. Since we are working with a plate, we can obviate the z component. We are looking for something like this:\n",
    "\n",
    "![Thinned-out plate for skyrmion production](images/SkyrmionGeometry.png)\n",
    "\n",
    "The literal functional form of that is:\n",
    " $$ y(x)=   \\left\\{\n",
    "\\begin{array}{ll}\n",
    "      \\tfrac{3}{4}w H(x+l) - \\tfrac{1}{4}w H(x+l) & x < l \\\\\n",
    "      w H(x-l) & x \\geqslant l \\\\\n",
    "\\end{array} \n",
    "\\right.  $$\n",
    "\n",
    "There is, however a much easier way to codify the geometry. We just have to return zero when there is not supposed to be material, and the magnetization when it is. That can be easily achieved with a conditional. The initial conditions are given such that we have a well-defined negative monodomain in a positve environment. "
   ]
  },
  {
   "cell_type": "code",
   "execution_count": 15,
   "id": "dbb3b72c",
   "metadata": {},
   "outputs": [
    {
     "data": {
      "application/vnd.jupyter.widget-view+json": {
       "model_id": "ba63756fb7fc43caa8c49243240db81d",
       "version_major": 2,
       "version_minor": 0
      },
      "text/plain": [
       "Output()"
      ]
     },
     "metadata": {},
     "output_type": "display_data"
    }
   ],
   "source": [
    "def geometry(pos):\n",
    "    x, y, z = pos\n",
    "    if x < 50e-9 and (y < 15e-9 or y > 35e-9):\n",
    "        return 0\n",
    "    else:\n",
    "        return Ms\n",
    "    \n",
    "def m_initial(pos):\n",
    "    x, y, z= pos\n",
    "    if (x>10e-9) and (x<=30e-9):\n",
    "        return (0, 0, -1)\n",
    "    else:\n",
    "        return (0, 0, 1)\n",
    "\n",
    "system.m = df.Field(mesh, dim=3, value=m_initial, norm=geometry)\n",
    "system.m.z.plane('z').k3d_scalar(filter_field=system.m.norm)"
   ]
  },
  {
   "cell_type": "markdown",
   "id": "26a3f1b6",
   "metadata": {},
   "source": [
    "When we relax the system, the negative strip enlarges, but it does stop at the width junction."
   ]
  },
  {
   "cell_type": "code",
   "execution_count": 16,
   "id": "387522b3",
   "metadata": {
    "scrolled": false
   },
   "outputs": [
    {
     "name": "stdout",
     "output_type": "stream",
     "text": [
      "Running OOMMF (TclOOMMFRunner) [2021/04/13 16:16]... (7.2 s)\n"
     ]
    },
    {
     "data": {
      "application/vnd.jupyter.widget-view+json": {
       "model_id": "346ccbace68343cfa8c85385420af879",
       "version_major": 2,
       "version_minor": 0
      },
      "text/plain": [
       "Output()"
      ]
     },
     "metadata": {},
     "output_type": "display_data"
    }
   ],
   "source": [
    "md = oc.MinDriver()\n",
    "md.drive(system)\n",
    "\n",
    "system.m.z.plane('z').k3d_scalar(filter_field=system.m.norm)"
   ]
  },
  {
   "cell_type": "markdown",
   "id": "da036f62",
   "metadata": {},
   "source": [
    "Finally, we add a spin torque tranfer term brought by a spin polarized current on the x direction. We can see the formation of a vortex in the wider part of the plate."
   ]
  },
  {
   "cell_type": "code",
   "execution_count": 17,
   "id": "d3845c88",
   "metadata": {},
   "outputs": [
    {
     "name": "stdout",
     "output_type": "stream",
     "text": [
      "Running OOMMF (TclOOMMFRunner) [2021/04/13 16:16]... (9.6 s)\n"
     ]
    },
    {
     "data": {
      "application/vnd.jupyter.widget-view+json": {
       "model_id": "bbf460b926df4a2ea780ef2cb4a3f7fb",
       "version_major": 2,
       "version_minor": 0
      },
      "text/plain": [
       "Output()"
      ]
     },
     "metadata": {},
     "output_type": "display_data"
    }
   ],
   "source": [
    "ux = 400 # current speed in the x direction (m/s)\n",
    "beta = 0.5 # non-abiabatic STT parameter\n",
    "\n",
    "system.dynamics += mm.ZhangLi(u=ux, beta=beta)\n",
    "td = oc.TimeDriver()\n",
    "td.drive(system, t=0.2e-9, n=100)\n",
    "\n",
    "system.m.z.plane('z').k3d_scalar(filter_field=system.m.norm)"
   ]
  },
  {
   "cell_type": "markdown",
   "id": "4c70edec",
   "metadata": {},
   "source": [
    "This result is very encouraging for the generation of skyrmions and skyrmion lattices for spintronics applications ([Zhou, 2014](https://www.nature.com/articles/ncomms5652)). \n",
    "\n",
    "That completes the Ubermag demonstration. I hope you enjoyed it and can work with your own geometries soon.\n",
    "\n",
    "*Victor*"
   ]
  },
  {
   "cell_type": "code",
   "execution_count": null,
   "id": "e7496d44",
   "metadata": {},
   "outputs": [],
   "source": []
  }
 ],
 "metadata": {
  "kernelspec": {
   "display_name": "Python 3",
   "language": "python",
   "name": "python3"
  },
  "language_info": {
   "codemirror_mode": {
    "name": "ipython",
    "version": 3
   },
   "file_extension": ".py",
   "mimetype": "text/x-python",
   "name": "python",
   "nbconvert_exporter": "python",
   "pygments_lexer": "ipython3",
   "version": "3.8.8"
  }
 },
 "nbformat": 4,
 "nbformat_minor": 5
}
